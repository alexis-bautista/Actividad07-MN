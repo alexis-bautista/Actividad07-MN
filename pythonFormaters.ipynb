{
 "cells": [
  {
   "cell_type": "markdown",
   "metadata": {},
   "source": [
    "# Actividad extracurricular 07 - Python Formatters  \n",
    "**Nombre:** Alexis Bautista  \n",
    "**Fecha de entrega:** 02 de diciembre del 2024  \n",
    "**Paralelo:** GR1CC  \n",
    "**Enlace de GitHub:** https://github.com/alexis-bautista/Actividad07-MN.git"
   ]
  },
  {
   "cell_type": "markdown",
   "metadata": {},
   "source": [
    "## Código para probar formatters\n",
    "\n",
    "Los formatters son usados en vscode mediante uso de sus extensiones.\n",
    "\n",
    "Código de ejemplo generado con chat gpt con formato desordenado e intencionalmente mal estructurado para probar varios formatters:"
   ]
  },
  {
   "cell_type": "code",
   "execution_count": 1,
   "metadata": {},
   "outputs": [
    {
     "name": "stdout",
     "output_type": "stream",
     "text": [
      "Area: 78.53981633974483\n",
      "Hello, Alexis!\n",
      "Circumference: 31.41592653589793\n",
      "Files in current directory: ['.gitignore', 'pythonFormaters.ipynb', 'README.md']\n"
     ]
    }
   ],
   "source": [
    "import math,os\n",
    "\n",
    "def calculate_area(radius):area=math.pi*radius**2;return area\n",
    "\n",
    "def    greet( name  ):\n",
    "\n",
    "  print(  f\"Hello, {name}!\"   )\n",
    "\n",
    "class Circle:\n",
    " def __init__(self,radius):self.radius=radius\n",
    " def circumference(self):return 2*math.pi*self.radius\n",
    "\n",
    "def list_files(path):return [f for f in os.listdir(path) if os.path.isfile(os.path.join(path, f))]\n",
    "\n",
    "if __name__==\"__main__\":\n",
    "    r=5\n",
    "    print(\"Area:\",calculate_area(   r ))\n",
    "    greet(\"Alexis\"  )\n",
    "    c=Circle(r)\n",
    "    print(  \"Circumference:\",c.circumference())\n",
    "    print(\"Files in current directory:\",list_files(\".\"    ))\n"
   ]
  },
  {
   "cell_type": "markdown",
   "metadata": {},
   "source": [
    "## Black Formatter\n",
    "\n",
    "![](ADJUNTOS/black.png)"
   ]
  },
  {
   "cell_type": "code",
   "execution_count": null,
   "metadata": {},
   "outputs": [
    {
     "name": "stdout",
     "output_type": "stream",
     "text": [
      "Area: 78.53981633974483\n",
      "Hello, Alexis!\n",
      "Circumference: 31.41592653589793\n",
      "Files in current directory: ['.gitignore', 'pythonFormaters.ipynb', 'README.md']\n"
     ]
    }
   ],
   "source": [
    "import math, os\n",
    "\n",
    "\n",
    "def calculate_area(radius):\n",
    "    area = math.pi * radius**2\n",
    "    return area\n",
    "\n",
    "\n",
    "def greet(name):\n",
    "\n",
    "    print(f\"Hello, {name}!\")\n",
    "\n",
    "\n",
    "class Circle:\n",
    "    def __init__(self, radius):\n",
    "        self.radius = radius\n",
    "\n",
    "    def circumference(self):\n",
    "        return 2 * math.pi * self.radius\n",
    "\n",
    "\n",
    "def list_files(path):\n",
    "    return [f for f in os.listdir(path) if os.path.isfile(os.path.join(path, f))]\n",
    "\n",
    "\n",
    "if __name__ == \"__main__\":\n",
    "    r = 5\n",
    "    print(\"Area:\", calculate_area(r))\n",
    "    greet(\"Alexis\")\n",
    "    c = Circle(r)\n",
    "    print(\"Circumference:\", c.circumference())\n",
    "    print(\"Files in current directory:\", list_files(\".\"))"
   ]
  },
  {
   "cell_type": "markdown",
   "metadata": {},
   "source": [
    "## autopep8\n",
    "\n",
    "![](ADJUNTOS/autopep8.png)"
   ]
  },
  {
   "cell_type": "code",
   "execution_count": 3,
   "metadata": {},
   "outputs": [
    {
     "name": "stdout",
     "output_type": "stream",
     "text": [
      "Area: 78.53981633974483\n",
      "Hello, Alexis!\n",
      "Circumference: 31.41592653589793\n",
      "Files in current directory: ['.gitignore', 'pythonFormaters.ipynb', 'README.md']\n"
     ]
    }
   ],
   "source": [
    "import math\n",
    "import os\n",
    "\n",
    "\n",
    "def calculate_area(radius): area = math.pi*radius**2; return area\n",
    "\n",
    "\n",
    "def greet(name):\n",
    "\n",
    "    print(f\"Hello, {name}!\")\n",
    "\n",
    "\n",
    "class Circle:\n",
    "    def __init__(self, radius): self.radius = radius\n",
    "    def circumference(self): return 2*math.pi*self.radius\n",
    "\n",
    "\n",
    "def list_files(path): return [f for f in os.listdir(\n",
    "    path) if os.path.isfile(os.path.join(path, f))]\n",
    "\n",
    "\n",
    "if __name__ == \"__main__\":\n",
    "    r = 5\n",
    "    print(\"Area:\", calculate_area(r))\n",
    "    greet(\"Alexis\")\n",
    "    c = Circle(r)\n",
    "    print(\"Circumference:\", c.circumference())\n",
    "    print(\"Files in current directory:\", list_files(\".\"))"
   ]
  },
  {
   "cell_type": "markdown",
   "metadata": {},
   "source": [
    "## Ruff\n",
    "\n",
    "![](ADJUNTOS/ruff.png)"
   ]
  },
  {
   "cell_type": "code",
   "execution_count": 4,
   "metadata": {},
   "outputs": [
    {
     "name": "stdout",
     "output_type": "stream",
     "text": [
      "Area: 78.53981633974483\n",
      "Hello, Alexis!\n",
      "Circumference: 31.41592653589793\n",
      "Files in current directory: ['.gitignore', 'pythonFormaters.ipynb', 'README.md']\n"
     ]
    }
   ],
   "source": [
    "import math, os\n",
    "\n",
    "\n",
    "def calculate_area(radius):\n",
    "    area = math.pi * radius**2\n",
    "    return area\n",
    "\n",
    "\n",
    "def greet(name):\n",
    "    print(f\"Hello, {name}!\")\n",
    "\n",
    "\n",
    "class Circle:\n",
    "    def __init__(self, radius):\n",
    "        self.radius = radius\n",
    "\n",
    "    def circumference(self):\n",
    "        return 2 * math.pi * self.radius\n",
    "\n",
    "\n",
    "def list_files(path):\n",
    "    return [f for f in os.listdir(path) if os.path.isfile(os.path.join(path, f))]\n",
    "\n",
    "\n",
    "if __name__ == \"__main__\":\n",
    "    r = 5\n",
    "    print(\"Area:\", calculate_area(r))\n",
    "    greet(\"Alexis\")\n",
    "    c = Circle(r)\n",
    "    print(\"Circumference:\", c.circumference())\n",
    "    print(\"Files in current directory:\", list_files(\".\"))\n"
   ]
  },
  {
   "cell_type": "markdown",
   "metadata": {},
   "source": [
    "# yapf \n",
    "\n",
    "![](ADJUNTOS/yapf.png)"
   ]
  },
  {
   "cell_type": "code",
   "execution_count": null,
   "metadata": {},
   "outputs": [],
   "source": [
    "import math, os\n",
    "\n",
    "\n",
    "def calculate_area(radius):\n",
    "    area = math.pi * radius**2\n",
    "    return area\n",
    "\n",
    "\n",
    "def greet(name):\n",
    "\n",
    "    print(f\"Hello, {name}!\")\n",
    "\n",
    "\n",
    "class Circle:\n",
    "\n",
    "    def __init__(self, radius):\n",
    "        self.radius = radius\n",
    "\n",
    "    def circumference(self):\n",
    "        return 2 * math.pi * self.radius\n",
    "\n",
    "\n",
    "def list_files(path):\n",
    "    return [\n",
    "        f for f in os.listdir(path) if os.path.isfile(os.path.join(path, f))\n",
    "    ]\n",
    "\n",
    "\n",
    "if __name__ == \"__main__\":\n",
    "    r = 5\n",
    "    print(\"Area:\", calculate_area(r))\n",
    "    greet(\"Alexis\")\n",
    "    c = Circle(r)\n",
    "    print(\"Circumference:\", c.circumference())\n",
    "    print(\"Files in current directory:\", list_files(\".\"))\n"
   ]
  }
 ],
 "metadata": {
  "kernelspec": {
   "display_name": "Python 3",
   "language": "python",
   "name": "python3"
  },
  "language_info": {
   "codemirror_mode": {
    "name": "ipython",
    "version": 3
   },
   "file_extension": ".py",
   "mimetype": "text/x-python",
   "name": "python",
   "nbconvert_exporter": "python",
   "pygments_lexer": "ipython3",
   "version": "3.13.0"
  }
 },
 "nbformat": 4,
 "nbformat_minor": 2
}
